{
 "cells": [
  {
   "cell_type": "code",
   "execution_count": 4,
   "id": "dbd0c042-a7ce-49b5-8d63-a74225dbf57f",
   "metadata": {},
   "outputs": [
    {
     "name": "stdout",
     "output_type": "stream",
     "text": [
      "<class 'pandas.core.frame.DataFrame'>\n",
      "(7991, 77)\n",
      "        Time       X2        Y2       Z2   V2       X3        Y3       Z3  \\\n",
      "0        (s)     (mm)      (mm)     (mm)  NaN     (mm)      (mm)     (mm)   \n",
      "1          0  317.182  1277.052  -19.241  1.0  319.309  1253.085   -3.359   \n",
      "2      0.005  317.182  1277.052  -19.241  1.0  319.309  1253.085   -3.359   \n",
      "3       0.01  316.192  1277.274  -20.821  1.0   319.98  1252.982   -2.523   \n",
      "4      0.015  317.067  1277.053  -19.864  1.0  319.983  1252.876   -2.629   \n",
      "...      ...      ...       ...      ...  ...      ...       ...      ...   \n",
      "7986  39.975  304.626  1278.688   -27.55  1.0  309.186  1268.931  -17.206   \n",
      "7987   39.98  304.635  1278.746  -27.509  1.0  309.062   1268.96  -17.663   \n",
      "7988  39.985  304.485  1279.034  -27.518  1.0  309.054  1269.063  -17.338   \n",
      "7989   39.99   305.13  1278.894  -26.658  1.0   309.18  1268.937  -16.884   \n",
      "7990  39.995  304.404  1278.891  -27.371  1.0  309.351  1268.908  -17.122   \n",
      "\n",
      "       V3       X4  ...     Z18  V18   X19   Y19   Z19  V19    X20     Y20  \\\n",
      "0     NaN     (mm)  ...    (mm)  NaN  (mm)  (mm)  (mm)  NaN   (mm)    (mm)   \n",
      "1     1.0   303.96  ...   0.227  1.0     0     0     0  0.0  0.424  -0.294   \n",
      "2     1.0   303.96  ...   0.227  1.0     0     0     0  0.0  0.424  -0.294   \n",
      "3     1.0  303.962  ...   0.625  1.0     0     0     0  0.0  0.042  -0.299   \n",
      "4     1.0  304.073  ...   0.531  1.0     0     0     0  0.0  0.512  -0.335   \n",
      "...   ...      ...  ...     ...  ...   ...   ...   ...  ...    ...     ...   \n",
      "7986  1.0  298.386  ...  -0.008  1.0     0     0     0  0.0  0.214   0.097   \n",
      "7987  1.0   298.06  ...    0.07  1.0     0     0     0  0.0   0.04  -0.276   \n",
      "7988  1.0  298.197  ...   0.281  1.0     0     0     0  0.0  0.204   -0.23   \n",
      "7989  1.0   298.04  ...   0.215  1.0     0     0     0  0.0  0.516   0.094   \n",
      "7990  1.0  298.082  ...   0.041  1.0     0     0     0  0.0   0.16  -0.048   \n",
      "\n",
      "         Z20  V20  \n",
      "0       (mm)  NaN  \n",
      "1     -0.123  1.0  \n",
      "2     -0.123  1.0  \n",
      "3     -0.115  1.0  \n",
      "4     -0.114  1.0  \n",
      "...      ...  ...  \n",
      "7986   0.127  1.0  \n",
      "7987  -0.589  1.0  \n",
      "7988  -0.604  1.0  \n",
      "7989   0.283  1.0  \n",
      "7990  -0.335  1.0  \n",
      "\n",
      "[7991 rows x 77 columns]\n",
      "Index(['Time', 'X2', 'Y2', 'Z2', 'V2', 'X3', 'Y3', 'Z3', 'V3', 'X4', 'Y4',\n",
      "       'Z4', 'V4', 'X5', 'Y5', 'Z5', 'V5', 'X6', 'Y6', 'Z6', 'V6', 'X7', 'Y7',\n",
      "       'Z7', 'V7', 'X8', 'Y8', 'Z8', 'V8', 'X9', 'Y9', 'Z9', 'V9', 'X10',\n",
      "       'Y10', 'Z10', 'V10', 'X11', 'Y11', 'Z11', 'V11', 'X12', 'Y12', 'Z12',\n",
      "       'V12', 'X13', 'Y13', 'Z13', 'V13', 'X14', 'Y14', 'Z14', 'V14', 'X15',\n",
      "       'Y15', 'Z15', 'V15', 'X16', 'Y16', 'Z16', 'V16', 'X17', 'Y17', 'Z17',\n",
      "       'V17', 'X18', 'Y18', 'Z18', 'V18', 'X19', 'Y19', 'Z19', 'V19', 'X20',\n",
      "       'Y20', 'Z20', 'V20'],\n",
      "      dtype='object')\n",
      "7989\n"
     ]
    }
   ],
   "source": [
    "import pandas as pd\n",
    "# for plots and figs\n",
    "import matplotlib\n",
    "#for using arrays\n",
    "import numpy as np\n",
    "\n",
    "df= pd.read_csv(r'/Users/abby/Desktop/codas/coda1.csv')\n",
    "print(type(df))\n",
    "print(df.shape)\n",
    "print(df)\n",
    "coda_data=df.iloc[2:,:]\n",
    "\n",
    "coda_data.columns=[\"Time\", \"X2\",\"Y2\",\"Z2\",\"V2\", \"X3\",\"Y3\",\"Z3\",\"V3\", \"X4\",\"Y4\",\"Z4\",\"V4\",\"X5\",\"Y5\",\"Z5\",\"V5\",\"X6\",\"Y6\",\"Z6\",\"V6\",\n",
    "\"X7\",\"Y7\",\"Z7\",\"V7\",\"X8\",\"Y8\",\"Z8\",\"V8\",\"X9\",\"Y9\",\"Z9\",\"V9\", \"X10\",\"Y10\",\"Z10\",\"V10\",\"X11\",\"Y11\",\"Z11\",\"V11\",\"X12\",\"Y12\",\"Z12\",\"V12\",\"X13\",\"Y13\",\"Z13\",\"V13\",\n",
    "\"X14\",\"Y14\",\"Z14\",\"V14\", \"X15\",\"Y15\",\"Z15\",\"V15\",\"X16\",\"Y16\",\"Z16\",\"V16\",\"X17\",\"Y17\",\"Z17\",\"V17\",\"X18\",\"Y18\",\"Z18\",\"V18\",\"X19\",\"Y19\",\"Z19\",\"V19\",\n",
    "\"X20\",\"Y20\",\"Z20\",\"V20\"]\n",
    "\n",
    "print(coda_data.columns)\n",
    "print(len(coda_data.index))\n",
    "#coda_data.iloc[:, 0]"
   ]
  },
  {
   "cell_type": "code",
   "execution_count": 5,
   "id": "f3aebeb1-c0f5-475a-a1ef-10efba6cd637",
   "metadata": {},
   "outputs": [
    {
     "data": {
      "text/plain": [
       "Time     object\n",
       "X2       object\n",
       "Y2       object\n",
       "Z2       object\n",
       "V2      float64\n",
       "         ...   \n",
       "V19     float64\n",
       "X20      object\n",
       "Y20      object\n",
       "Z20      object\n",
       "V20     float64\n",
       "Length: 77, dtype: object"
      ]
     },
     "execution_count": 5,
     "metadata": {},
     "output_type": "execute_result"
    }
   ],
   "source": [
    "df.dtypes"
   ]
  },
  {
   "cell_type": "code",
   "execution_count": 6,
   "id": "6be2bcdf-d446-46cb-9ff5-9b12bdad5f99",
   "metadata": {},
   "outputs": [],
   "source": [
    "#convert values to numeric instead of object because cannot graph without numerical data"
   ]
  },
  {
   "cell_type": "code",
   "execution_count": 7,
   "id": "e75b03b4-ec98-4457-9254-08919b1f4f32",
   "metadata": {},
   "outputs": [],
   "source": [
    "#need to graph all coordinates for each marker (ex: X2, Y2, Z2) over Time, and create a legend "
   ]
  },
  {
   "cell_type": "code",
   "execution_count": null,
   "id": "ccbef2c2-b929-4fa7-a66e-32c3541fcd8c",
   "metadata": {},
   "outputs": [],
   "source": []
  }
 ],
 "metadata": {
  "kernelspec": {
   "display_name": "Python 3 (ipykernel)",
   "language": "python",
   "name": "python3"
  },
  "language_info": {
   "codemirror_mode": {
    "name": "ipython",
    "version": 3
   },
   "file_extension": ".py",
   "mimetype": "text/x-python",
   "name": "python",
   "nbconvert_exporter": "python",
   "pygments_lexer": "ipython3",
   "version": "3.9.12"
  }
 },
 "nbformat": 4,
 "nbformat_minor": 5
}
